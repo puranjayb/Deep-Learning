{
 "cells": [
  {
   "cell_type": "code",
   "execution_count": 1,
   "metadata": {},
   "outputs": [],
   "source": [
    "import tensorflow as tf\n",
    "import matplotlib.pyplot as plt\n",
    "import numpy as np"
   ]
  },
  {
   "cell_type": "code",
   "execution_count": 2,
   "metadata": {},
   "outputs": [],
   "source": [
    "mnist_datatset = tf.keras.datasets.mnist\n",
    "(x_train, y_train), (x_val, y_val) = mnist_datatset.load_data()"
   ]
  },
  {
   "cell_type": "code",
   "execution_count": 3,
   "metadata": {},
   "outputs": [
    {
     "data": {
      "image/png": "[encoded data removed]",
      "text/plain": [
       "<Figure size 640x480 with 1 Axes>"
      ]
     },
     "metadata": {},
     "output_type": "display_data"
    }
   ],
   "source": [
    "plt.imshow(x_train[101], cmap = plt.cm.binary)\n",
    "plt.show()"
   ]
  },
  {
   "cell_type": "code",
   "execution_count": 4,
   "metadata": {},
   "outputs": [],
   "source": [
    "x_train = tf.keras.utils.normalize(x_train, axis = 1)\n",
    "x_val = tf.keras.utils.normalize(x_val, axis = 1)"
   ]
  },
  {
   "cell_type": "code",
   "execution_count": 5,
   "metadata": {},
   "outputs": [],
   "source": [
    "NN = tf.keras.models.Sequential()"
   ]
  },
  {
   "cell_type": "code",
   "execution_count": 6,
   "metadata": {},
   "outputs": [],
   "source": [
    "NN.add(tf.keras.layers.Flatten())\n",
    "NN.add(tf.keras.layers.Dense(128, activation='relu'))\n",
    "NN.add(tf.keras.layers.Dense(128, activation='relu'))\n",
    "NN.add(tf.keras.layers.Dense(10, activation='sigmoid'))"
   ]
  },
  {
   "cell_type": "code",
   "execution_count": 7,
   "metadata": {},
   "outputs": [],
   "source": [
    "NN.compile(optimizer = 'adam', loss = 'sparse_categorical_crossentropy', metrics = ['accuracy'])"
   ]
  },
  {
   "cell_type": "code",
   "execution_count": 8,
   "metadata": {},
   "outputs": [
    {
     "name": "stdout",
     "output_type": "stream",
     "text": [
      "Epoch 1/4\n",
      "1875/1875 [==============================] - 2s 987us/step - loss: 0.2647 - accuracy: 0.9230\n",
      "Epoch 2/4\n",
      "1875/1875 [==============================] - 2s 942us/step - loss: 0.1079 - accuracy: 0.9668\n",
      "Epoch 3/4\n",
      "1875/1875 [==============================] - 2s 944us/step - loss: 0.0727 - accuracy: 0.9769\n",
      "Epoch 4/4\n",
      "1875/1875 [==============================] - 2s 967us/step - loss: 0.0534 - accuracy: 0.9827\n"
     ]
    },
    {
     "data": {
      "text/plain": [
       "<keras.src.callbacks.History at 0x1ebe7c4b640>"
      ]
     },
     "execution_count": 8,
     "metadata": {},
     "output_type": "execute_result"
    }
   ],
   "source": [
    "NN.fit(x_train, y_train, epochs = 4)"
   ]
  },
  {
   "cell_type": "code",
   "execution_count": 9,
   "metadata": {},
   "outputs": [
    {
     "name": "stdout",
     "output_type": "stream",
     "text": [
      "313/313 [==============================] - 0s 649us/step - loss: 0.1007 - accuracy: 0.9700\n",
      "Loss : 0.10066360980272293\n",
      "Accuracy : 0.9700000286102295\n"
     ]
    }
   ],
   "source": [
    "loss, accuracy = NN.evaluate(x_val, y_val)\n",
    "print(f\"Loss : {loss}\")\n",
    "print(f\"Accuracy : {accuracy}\")"
   ]
  },
  {
   "cell_type": "code",
   "execution_count": 10,
   "metadata": {},
   "outputs": [
    {
     "name": "stdout",
     "output_type": "stream",
     "text": [
      "INFO:tensorflow:Assets written to: mnist_number_predictor\\assets\n"
     ]
    },
    {
     "name": "stderr",
     "output_type": "stream",
     "text": [
      "INFO:tensorflow:Assets written to: mnist_number_predictor\\assets\n"
     ]
    }
   ],
   "source": [
    "NN.save('mnist_number_predictor')"
   ]
  },
  {
   "cell_type": "code",
   "execution_count": 11,
   "metadata": {},
   "outputs": [],
   "source": [
    "model = tf.keras.models.load_model('mnist_number_predictor')"
   ]
  },
  {
   "cell_type": "code",
   "execution_count": 12,
   "metadata": {},
   "outputs": [
    {
     "name": "stdout",
     "output_type": "stream",
     "text": [
      "313/313 [==============================] - 0s 683us/step\n",
      "[[2.6711254e-04 9.1328807e-03 7.3827350e-01 ... 9.9999869e-01\n",
      "  4.2813702e-04 1.4797956e-01]\n",
      " [7.6962304e-03 5.7426989e-01 9.9999678e-01 ... 3.9751464e-04\n",
      "  2.0687438e-03 2.6096228e-07]\n",
      " [8.5982597e-03 9.9974716e-01 5.3630970e-02 ... 9.5204838e-02\n",
      "  3.3110955e-01 2.1460485e-03]\n",
      " ...\n",
      " [3.7671853e-05 2.4718143e-02 7.7777612e-04 ... 3.1591770e-01\n",
      "  4.2028069e-02 8.7145507e-01]\n",
      " [8.5924834e-02 5.6249369e-03 6.2842428e-04 ... 1.4367872e-02\n",
      "  9.0548104e-01 4.5665729e-04]\n",
      " [1.7769916e-02 5.2891258e-04 8.6165365e-04 ... 1.1111976e-07\n",
      "  2.6630331e-02 2.4222732e-04]]\n"
     ]
    }
   ],
   "source": [
    "prediction = model.predict([x_val])\n",
    "print(prediction)"
   ]
  },
  {
   "cell_type": "code",
   "execution_count": 13,
   "metadata": {},
   "outputs": [
    {
     "name": "stdout",
     "output_type": "stream",
     "text": [
      "0\n"
     ]
    }
   ],
   "source": [
    "print(np.argmax(prediction[101]))"
   ]
  },
  {
   "cell_type": "code",
   "execution_count": 14,
   "metadata": {},
   "outputs": [
    {
     "data": {
      "image/png": "[encoded data removed]",
      "text/plain": [
       "<Figure size 640x480 with 1 Axes>"
      ]
     },
     "metadata": {},
     "output_type": "display_data"
    }
   ],
   "source": [
    "plt.imshow(x_val[101], cmap = plt.cm.binary)\n",
    "plt.show()"
   ]
  }
 ],
 "metadata": {
  "kernelspec": {
   "display_name": "Python 3",
   "language": "python",
   "name": "python3"
  },
  "language_info": {
   "codemirror_mode": {
    "name": "ipython",
    "version": 3
   },
   "file_extension": ".py",
   "mimetype": "text/x-python",
   "name": "python",
   "nbconvert_exporter": "python",
   "pygments_lexer": "ipython3",
   "version": "3.9.0"
  },
  "orig_nbformat": 4
 },
 "nbformat": 4,
 "nbformat_minor": 2
}
